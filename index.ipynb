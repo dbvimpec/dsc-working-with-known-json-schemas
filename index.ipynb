{
  "cells": [
    {
      "cell_type": "markdown",
      "metadata": {
        "id": "y4xM9mKuxg6Q"
      },
      "source": [
        "# Working with Known JSON Schemas\n",
        "\n",
        "## Introduction\n",
        "You've started taking a look at JSON files and you'll continue to explore how to navigate and traverse these files. One common use case of JSON files will be when you are connecting to various websites through their established APIs to retrieve data from them. With these, you are typically given a schema for how the data is structured and then will use this knowledge to retrieve pertinent information.\n",
        "\n",
        "## Objectives\n",
        "\n",
        "You will be able to:\n",
        "\n",
        "* Use the JSON module to load and parse JSON documents\n",
        "* Extract data using predefined JSON schemas\n",
        "* Convert JSON to a pandas DataFrame\n",
        "\n",
        "## Reading a JSON Schema\n",
        "\n",
        "In this lesson, you'll take a look at the response from the New York Times API. The general idea is that the New York Times makes some of its data available over the web, and it uses the JSON format to do so.\n",
        "\n",
        "Here's the JSON schema provided for a section of the NY Times API:\n",
        "<img src=\"https://github.com/dbvimpec/dsc-working-with-known-json-schemas/blob/master/images/schema_overview.png?raw=1\" width=\"400\">\n",
        "\n",
        "or a more detailed view (truncated):\n",
        "\n",
        "<img src=\"https://github.com/dbvimpec/dsc-working-with-known-json-schemas/blob/master/images/schema_detailed.png?raw=1\" width=\"500\">"
      ]
    },
    {
      "cell_type": "markdown",
      "metadata": {
        "id": "0FtJ9Rzaxg6S"
      },
      "source": [
        "You can see that the master structure is a dictionary and has a key named `'response'`. The value associated with the `'response'` key is also a dictionary and has two keys: `'docs'` and `'meta'`. As you continue to examine the schema hierarchy, you'll notice the vast majority of the elements comprising this data structure, in this case, are dictionaries."
      ]
    },
    {
      "cell_type": "markdown",
      "metadata": {
        "id": "EDN5EpgHxg6S"
      },
      "source": [
        "## Loading the Data File\n",
        "\n",
        "As we have done in previous lessons, let's start by importing this data from the file. The code below uses the `json` module ([documentation here](https://docs.python.org/3/library/json.html)) and built-in `open` function to load the data from a JSON file into a Python object called `data`.\n",
        "\n",
        "> In the cell below, first import the json library, then type the following code to load the file and assign it to the variable `data`:\n",
        "\n",
        "```\n",
        "with open('ny_times_response.json', 'r') as f:\n",
        "    data = json.load(f)\n",
        "```"
      ]
    },
    {
      "cell_type": "code",
      "source": [
        "!git clone https://github.com/dbvimpec/dsc-working-with-known-json-schemas"
      ],
      "metadata": {
        "colab": {
          "base_uri": "https://localhost:8080/"
        },
        "id": "Z1VOF_eMy3Sv",
        "outputId": "6d7a03b1-a9df-41c9-92dd-0989689494b1"
      },
      "execution_count": 45,
      "outputs": [
        {
          "output_type": "stream",
          "name": "stdout",
          "text": [
            "fatal: destination path 'dsc-working-with-known-json-schemas' already exists and is not an empty directory.\n"
          ]
        }
      ]
    },
    {
      "cell_type": "code",
      "execution_count": 46,
      "metadata": {
        "id": "y2znNXPaxg6S"
      },
      "outputs": [],
      "source": [
        "# replace this comment with the code to import the JSON library\n",
        "import json\n",
        "# replace this comment with the code to load the desired file and assign it to the variable\n",
        "with open('/content/dsc-working-with-known-json-schemas/ny_times_response.json', 'r') as f:\n",
        "    data = json.load(f)"
      ]
    },
    {
      "cell_type": "markdown",
      "metadata": {
        "id": "CuobizM8xg6T"
      },
      "source": [
        "Now we can inspect what we loaded with some tools we are already familiar with.\n",
        "> In the cell below, use the `type()` function to print the data type of the loaded file `data`, then print the keys of the file using the `keys()` method."
      ]
    },
    {
      "cell_type": "code",
      "execution_count": 47,
      "metadata": {
        "colab": {
          "base_uri": "https://localhost:8080/"
        },
        "id": "ZB2PFvz9xg6U",
        "outputId": "e712809a-4e35-4ad3-a4ef-c5db268aedc1"
      },
      "outputs": [
        {
          "output_type": "stream",
          "name": "stdout",
          "text": [
            "<class 'dict'>\n",
            "dict_keys(['status', 'copyright', 'response'])\n"
          ]
        }
      ],
      "source": [
        "# replace this comment with the code to print the data type of the file `data`\n",
        "print(type(data))\n",
        "\n",
        "# replace this comment with the code to print the keys of the file\n",
        "print(data.keys())"
      ]
    },
    {
      "cell_type": "code",
      "execution_count": 48,
      "metadata": {
        "id": "R5uCcJxhxg6U"
      },
      "outputs": [],
      "source": [
        "# -EXPECTED OUTPUT-\n",
        "# <class 'dict'>\n",
        "# dict_keys(['status', 'copyright', 'response'])"
      ]
    },
    {
      "cell_type": "markdown",
      "metadata": {
        "id": "RJKugNi7xg6U"
      },
      "source": [
        "You should see that there are two additional keys `'status'` and `'copyright'` which were not shown in the schema documentation. As with most forms of documentation, it's important to be aware that published schemas may differ somewhat from the actual data, and your code should be able to handle these unexpected differences, within reason."
      ]
    },
    {
      "cell_type": "markdown",
      "metadata": {
        "id": "6YRmDyVIxg6U"
      },
      "source": [
        "## Loading Specific Data\n",
        "\n",
        "Looking at the schema, you might be interested in retrieving a specific piece of data, such as the articles' headlines. Notice that this is a key under `'docs'`, which is under `'response'`. So the schema is roughly: data --> 'response' --> 'docs' --> 'headline', something like `data['response']['docs']['headline']`.\n",
        "\n",
        "Let's see what happens if we try that:\n",
        "\n",
        "> In the cell below, type the following code to retreive the data:\n",
        "```\n",
        "data['response']['docs']['headline']\n",
        "```"
      ]
    },
    {
      "cell_type": "code",
      "execution_count": 49,
      "metadata": {
        "colab": {
          "base_uri": "https://localhost:8080/",
          "height": 176
        },
        "id": "Yc_TKSupxg6V",
        "outputId": "22659b23-50ad-4b68-d57f-3afea6dc4ae4"
      },
      "outputs": [
        {
          "output_type": "error",
          "ename": "TypeError",
          "evalue": "list indices must be integers or slices, not str",
          "traceback": [
            "\u001b[0;31m---------------------------------------------------------------------------\u001b[0m",
            "\u001b[0;31mTypeError\u001b[0m                                 Traceback (most recent call last)",
            "\u001b[0;32m<ipython-input-49-bd031fccbe30>\u001b[0m in \u001b[0;36m<cell line: 3>\u001b[0;34m()\u001b[0m\n\u001b[1;32m      1\u001b[0m \u001b[0;31m# replace this comment with the code to show the contents of data->response->docs->headline\u001b[0m\u001b[0;34m\u001b[0m\u001b[0;34m\u001b[0m\u001b[0m\n\u001b[1;32m      2\u001b[0m \u001b[0;34m\u001b[0m\u001b[0m\n\u001b[0;32m----> 3\u001b[0;31m \u001b[0mdata\u001b[0m\u001b[0;34m[\u001b[0m\u001b[0;34m'response'\u001b[0m\u001b[0;34m]\u001b[0m\u001b[0;34m[\u001b[0m\u001b[0;34m'docs'\u001b[0m\u001b[0;34m]\u001b[0m\u001b[0;34m[\u001b[0m\u001b[0;34m'headline'\u001b[0m\u001b[0;34m]\u001b[0m\u001b[0;34m\u001b[0m\u001b[0;34m\u001b[0m\u001b[0m\n\u001b[0m",
            "\u001b[0;31mTypeError\u001b[0m: list indices must be integers or slices, not str"
          ]
        }
      ],
      "source": [
        "# replace this comment with the code to show the contents of data->response->docs->headline\n",
        "\n",
        "data['response']['docs']['headline']"
      ]
    },
    {
      "cell_type": "code",
      "execution_count": null,
      "metadata": {
        "id": "vm-JG-Dmxg6V"
      },
      "outputs": [],
      "source": [
        "# -EXPECTED OUTPUT-\n",
        "\"\"\"\n",
        "---------------------------------------------------------------------------\n",
        "TypeError                                 Traceback (most recent call last)\n",
        "<ipython-input-3-0cb4d3140f8a> in <module>\n",
        "      1 # replace this comment with the code to show the contents of data->response->docs->headline\n",
        "----> 2 data['response']['docs']['headline']\n",
        "\n",
        "TypeError: list indices must be integers or slices, not str\n",
        "\"\"\""
      ]
    },
    {
      "cell_type": "markdown",
      "metadata": {
        "id": "lr0r-BrOxg6V"
      },
      "source": [
        "Ok, this error message is saying that somewhere along the way, **we treated something like a dictionary when it was actually a list**. Let's break down that chain of commands to figure out what went wrong.\n",
        "\n",
        "We are pretty sure that `data['response']` will not cause an error, since we already checked that `data` is type `dict`, and that `'response'` is one of the keys. But what is the type of `data['response']`?"
      ]
    },
    {
      "cell_type": "code",
      "execution_count": 50,
      "metadata": {
        "colab": {
          "base_uri": "https://localhost:8080/"
        },
        "id": "r1KT1Emaxg6V",
        "outputId": "068ff6f1-c4f1-45f6-d716-2a1d0314f214"
      },
      "outputs": [
        {
          "output_type": "execute_result",
          "data": {
            "text/plain": [
              "dict"
            ]
          },
          "metadata": {},
          "execution_count": 50
        }
      ],
      "source": [
        "from typing_extensions import TYPE_CHECKING\n",
        "# replace this comment with the code to display the data type in data->response\n",
        "\n",
        "type(data['response'])"
      ]
    },
    {
      "cell_type": "code",
      "execution_count": 51,
      "metadata": {
        "id": "yxSG0AfSxg6V"
      },
      "outputs": [],
      "source": [
        "# -EXPECTED OUTPUT-\n",
        "# dict"
      ]
    },
    {
      "cell_type": "markdown",
      "metadata": {
        "id": "n4kHQ4Avxg6W"
      },
      "source": [
        "Ok, that's a dictionary, too. How about `data['response']['docs']`?"
      ]
    },
    {
      "cell_type": "code",
      "execution_count": 52,
      "metadata": {
        "colab": {
          "base_uri": "https://localhost:8080/"
        },
        "id": "dmTykaMLxg6W",
        "outputId": "59a6cc1b-5685-4750-e771-e678e990a788"
      },
      "outputs": [
        {
          "output_type": "execute_result",
          "data": {
            "text/plain": [
              "list"
            ]
          },
          "metadata": {},
          "execution_count": 52
        }
      ],
      "source": [
        "# replace this comment with the code to display the data type of the data in data->response->docs\n",
        "type(data['response']['docs'])"
      ]
    },
    {
      "cell_type": "code",
      "execution_count": 53,
      "metadata": {
        "id": "ZltC5a80xg6W"
      },
      "outputs": [],
      "source": [
        "# -EXPECTED OUTPUT-\n",
        "# list"
      ]
    },
    {
      "cell_type": "markdown",
      "metadata": {
        "id": "W65zR_R0xg6W"
      },
      "source": [
        "So, that is the source of the error. We tried to treat this as a dictionary (accessing the value associated with the key `'headline'`) but it's a list.\n",
        "\n",
        "If you scroll back up to the schema pictured above, this makes sense. The value associated with the `'docs'` key is shown surrounded by `[` and `]`, right before the `{` and `}`, indicating that this is a *list* of dictionaries, not just a dictionary.\n",
        "\n",
        "You'll run into this kind of distinction repeatedly when working with JSON data. Sometimes values will be nested in unexpected ways, or you'll miss a key detail when you're skimming the schema. What's most important is that you're able to keep going and figure out what went wrong, not that you get it right on the first try.\n",
        "\n",
        "Now that we know that this is a list, let's extract it and print out some more information about it:\n",
        "\n",
        "> In the cell below, extract the data in `data['response']['docs']` and assign it to the variable `docs`.  Then display the following information about it:\n",
        " - the data type using `type()`\n",
        " - the length using `len()`\n",
        " - the contents of the first element of the list using the index `[0]`\n",
        " Try to make your output match the _-EXPECTED OUTPUT-_, we will help with the first line:\n",
        " ```\n",
        " print(\"`docs` is a data structure of type\", type(docs))\n",
        " ```\n",
        " or\n",
        " ```\n",
        " print(f\"`docs` is a data structure of type {type(docs)}\")\n",
        " ```"
      ]
    },
    {
      "cell_type": "code",
      "execution_count": 54,
      "metadata": {
        "colab": {
          "base_uri": "https://localhost:8080/"
        },
        "id": "jfilolU_xg6W",
        "outputId": "f490e8d5-b795-485c-e143-a1421680fa41"
      },
      "outputs": [
        {
          "output_type": "stream",
          "name": "stdout",
          "text": [
            "`docs` is a data structure of type <class 'list'>\n",
            "Its cointains 4 elemnts\n",
            "The first element is type <class 'dict'>\n"
          ]
        }
      ],
      "source": [
        "docs = data['response']['docs']\n",
        "\n",
        "print(f\"`docs` is a data structure of type {type(docs)}\")\n",
        "print(f\"Its cointains {len('docs')} elemnts\")\n",
        "print(f\"The first element is type {type(docs[0])}\")"
      ]
    },
    {
      "cell_type": "code",
      "execution_count": 55,
      "metadata": {
        "id": "o1svvCe7xg6W"
      },
      "outputs": [],
      "source": [
        "# -EXPECTED OUTPUT-\n",
        "# `docs` is a data structure of type <class 'list'>\n",
        "# It contains 9 elements\n",
        "# The first element is type <class 'dict'>"
      ]
    },
    {
      "cell_type": "markdown",
      "metadata": {
        "id": "0IG6tPNSxg6X"
      },
      "source": [
        "This confirms what we expected. Now we can loop over that list of dictionaries and print the values associated with the `'headline'` keys:\n",
        "\n",
        "> In the following cell write a for loop or list comprehension to display each element one by one.  To do this use one of the following code blocks:  \n",
        "\n",
        "with a for loop:\n",
        "```\n",
        "for doc in docs:\n",
        "    print(doc['headline'])\n",
        "```\n",
        "or with list comprehension:\n",
        "```\n",
        "print([doc['headline'] for doc in docs])\n",
        "```"
      ]
    },
    {
      "cell_type": "code",
      "execution_count": 56,
      "metadata": {
        "colab": {
          "base_uri": "https://localhost:8080/"
        },
        "id": "9jrxpc_1xg6X",
        "outputId": "efa205b0-93a2-4562-ec84-a3457ecefebd"
      },
      "outputs": [
        {
          "output_type": "stream",
          "name": "stdout",
          "text": [
            "{'main': \"HIGGINS, SPENT $22,189.53.; Governor-Elect's Election Expenses -- Harrison $9,220.28.\", 'kicker': None, 'content_kicker': None, 'print_headline': None, 'name': None, 'seo': None, 'sub': None}\n",
            "{'main': 'GARDEN BOUTS CANCELED; Mauriello Says He Could Not Be Ready on Nov. 3', 'kicker': '1', 'content_kicker': None, 'print_headline': None, 'name': None, 'seo': None, 'sub': None}\n",
            "{'main': 'Stock Drop Is Biggest in 2 Months--Margin Rise Held Factor in Lightest Trading of 1955', 'kicker': '1', 'content_kicker': None, 'print_headline': None, 'name': None, 'seo': None, 'sub': None}\n",
            "{'main': 'MUSIC OF THE WEEK', 'kicker': None, 'content_kicker': None, 'print_headline': None, 'name': None, 'seo': None, 'sub': None}\n",
            "{'main': 'Anacomp Inc. reports earnings for Qtr to March 31', 'kicker': None, 'content_kicker': None, 'print_headline': None, 'name': None, 'seo': None, 'sub': None}\n",
            "{'main': 'Brooklyn Routs Yeshiva', 'kicker': '1', 'content_kicker': None, 'print_headline': None, 'name': None, 'seo': None, 'sub': None}\n",
            "{'main': 'Albuquerque Program Gives Drinkers a Lift', 'kicker': '1', 'content_kicker': None, 'print_headline': None, 'name': None, 'seo': None, 'sub': None}\n",
            "{'main': 'Front Page 7 -- No Title', 'kicker': '1', 'content_kicker': None, 'print_headline': None, 'name': None, 'seo': None, 'sub': None}\n",
            "{'main': 'UNIONS AND BUILDERS READY FOR LONG FIGHT; None of the Strikers Back - Lock-Out Soon in Effect. 23,000 ALREADY INVOLVED Orders Sent to Every Building Employer Within Twenty-five Miles -- House-smiths Vote Not to Strike.', 'kicker': None, 'content_kicker': None, 'print_headline': None, 'name': None, 'seo': None, 'sub': None}\n"
          ]
        }
      ],
      "source": [
        "for doc in docs:\n",
        "    print(doc['headline'])"
      ]
    },
    {
      "cell_type": "code",
      "execution_count": 57,
      "metadata": {
        "colab": {
          "base_uri": "https://localhost:8080/",
          "height": 176
        },
        "id": "gKyrh3VJxg6X",
        "outputId": "565f9b77-895c-4829-e76e-7165bb5126cb"
      },
      "outputs": [
        {
          "output_type": "execute_result",
          "data": {
            "text/plain": [
              "'\\n[{\\'main\\': \"HIGGINS, SPENT $22,189.53.; Governor-Elect\\'s Election Expenses -- Harrison $9,220.28.\", \\'kicker\\': None, \\'content_kicker\\': None, \\'print_headline\\': None, \\'name\\': None, \\'seo\\': None, \\'sub\\': None}, {\\'main\\': \\'GARDEN BOUTS CANCELED; Mauriello Says He Could Not Be Ready on Nov. 3\\', \\'kicker\\': \\'1\\', \\'content_kicker\\': None, \\'print_headline\\': None, \\'name\\': None, \\'seo\\': None, \\'sub\\': None}, {\\'main\\': \\'Stock Drop Is Biggest in 2 Months--Margin Rise Held Factor in Lightest Trading of 1955\\', \\'kicker\\': \\'1\\', \\'content_kicker\\': None, \\'print_headline\\': None, \\'name\\': None, \\'seo\\': None, \\'sub\\': None}, {\\'main\\': \\'MUSIC OF THE WEEK\\', \\'kicker\\': None, \\'content_kicker\\': None, \\'print_headline\\': None, \\'name\\': None, \\'seo\\': None, \\'sub\\': None}, {\\'main\\': \\'Anacomp Inc. reports earnings for Qtr to March 31\\', \\'kicker\\': None, \\'content_kicker\\': None, \\'print_headline\\': None, \\'name\\': None, \\'seo\\': None, \\'sub\\': None}, {\\'main\\': \\'Brooklyn Routs Yeshiva\\', \\'kicker\\': \\'1\\', \\'content_kicker\\': None, \\'print_headline\\': None, \\'name\\': None, \\'seo\\': None, \\'sub\\': None}, {\\'main\\': \\'Albuquerque Program Gives Drinkers a Lift\\', \\'kicker\\': \\'1\\', \\'content_kicker\\': None, \\'print_headline\\': None, \\'name\\': None, \\'seo\\': None, \\'sub\\': None}, {\\'main\\': \\'Front Page 7 -- No Title\\', \\'kicker\\': \\'1\\', \\'content_kicker\\': None, \\'print_headline\\': None, \\'name\\': None, \\'seo\\': None, \\'sub\\': None}, {\\'main\\': \\'UNIONS AND BUILDERS READY FOR LONG FIGHT; None of the Strikers Back - Lock-Out Soon in Effect. 23,000 ALREADY INVOLVED Orders Sent to Every Building Employer Within Twenty-five Miles -- House-smiths Vote Not to Strike.\\', \\'kicker\\': None, \\'content_kicker\\': None, \\'print_headline\\': None, \\'name\\': None, \\'seo\\': None, \\'sub\\': None}]\\n'"
            ],
            "application/vnd.google.colaboratory.intrinsic+json": {
              "type": "string"
            }
          },
          "metadata": {},
          "execution_count": 57
        }
      ],
      "source": [
        "# -EXPECTED OUTPUT-\n",
        "# for loop\n",
        "\"\"\"\n",
        "{'main': \"HIGGINS, SPENT $22,189.53.; Governor-Elect's Election Expenses -- Harrison $9,220.28.\", 'kicker': None, 'content_kicker': None, 'print_headline': None, 'name': None, 'seo': None, 'sub': None}\n",
        "{'main': 'GARDEN BOUTS CANCELED; Mauriello Says He Could Not Be Ready on Nov. 3', 'kicker': '1', 'content_kicker': None, 'print_headline': None, 'name': None, 'seo': None, 'sub': None}\n",
        "{'main': 'Stock Drop Is Biggest in 2 Months--Margin Rise Held Factor in Lightest Trading of 1955', 'kicker': '1', 'content_kicker': None, 'print_headline': None, 'name': None, 'seo': None, 'sub': None}\n",
        "{'main': 'MUSIC OF THE WEEK', 'kicker': None, 'content_kicker': None, 'print_headline': None, 'name': None, 'seo': None, 'sub': None}\n",
        "{'main': 'Anacomp Inc. reports earnings for Qtr to March 31', 'kicker': None, 'content_kicker': None, 'print_headline': None, 'name': None, 'seo': None, 'sub': None}\n",
        "{'main': 'Brooklyn Routs Yeshiva', 'kicker': '1', 'content_kicker': None, 'print_headline': None, 'name': None, 'seo': None, 'sub': None}\n",
        "{'main': 'Albuquerque Program Gives Drinkers a Lift', 'kicker': '1', 'content_kicker': None, 'print_headline': None, 'name': None, 'seo': None, 'sub': None}\n",
        "{'main': 'Front Page 7 -- No Title', 'kicker': '1', 'content_kicker': None, 'print_headline': None, 'name': None, 'seo': None, 'sub': None}\n",
        "{'main': 'UNIONS AND BUILDERS READY FOR LONG FIGHT; None of the Strikers Back - Lock-Out Soon in Effect. 23,000 ALREADY INVOLVED Orders Sent to Every Building Employer Within Twenty-five Miles -- House-smiths Vote Not to Strike.', 'kicker': None, 'content_kicker': None, 'print_headline': None, 'name': None, 'seo': None, 'sub': None}\n",
        "\"\"\"\n",
        "# or\n",
        "# list comprehension\n",
        "\"\"\"\n",
        "[{'main': \"HIGGINS, SPENT $22,189.53.; Governor-Elect's Election Expenses -- Harrison $9,220.28.\", 'kicker': None, 'content_kicker': None, 'print_headline': None, 'name': None, 'seo': None, 'sub': None}, {'main': 'GARDEN BOUTS CANCELED; Mauriello Says He Could Not Be Ready on Nov. 3', 'kicker': '1', 'content_kicker': None, 'print_headline': None, 'name': None, 'seo': None, 'sub': None}, {'main': 'Stock Drop Is Biggest in 2 Months--Margin Rise Held Factor in Lightest Trading of 1955', 'kicker': '1', 'content_kicker': None, 'print_headline': None, 'name': None, 'seo': None, 'sub': None}, {'main': 'MUSIC OF THE WEEK', 'kicker': None, 'content_kicker': None, 'print_headline': None, 'name': None, 'seo': None, 'sub': None}, {'main': 'Anacomp Inc. reports earnings for Qtr to March 31', 'kicker': None, 'content_kicker': None, 'print_headline': None, 'name': None, 'seo': None, 'sub': None}, {'main': 'Brooklyn Routs Yeshiva', 'kicker': '1', 'content_kicker': None, 'print_headline': None, 'name': None, 'seo': None, 'sub': None}, {'main': 'Albuquerque Program Gives Drinkers a Lift', 'kicker': '1', 'content_kicker': None, 'print_headline': None, 'name': None, 'seo': None, 'sub': None}, {'main': 'Front Page 7 -- No Title', 'kicker': '1', 'content_kicker': None, 'print_headline': None, 'name': None, 'seo': None, 'sub': None}, {'main': 'UNIONS AND BUILDERS READY FOR LONG FIGHT; None of the Strikers Back - Lock-Out Soon in Effect. 23,000 ALREADY INVOLVED Orders Sent to Every Building Employer Within Twenty-five Miles -- House-smiths Vote Not to Strike.', 'kicker': None, 'content_kicker': None, 'print_headline': None, 'name': None, 'seo': None, 'sub': None}]\n",
        "\"\"\""
      ]
    },
    {
      "cell_type": "markdown",
      "metadata": {
        "id": "DIxe_D46xg6X"
      },
      "source": [
        "Or if you want to just print the main headlines themselves with the following code:\n",
        "\n",
        "> In the cell below, type the following code to print the `main` element of each `headline`:\n",
        "\n",
        "with a for loop:\n",
        "```\n",
        "for doc in docs:\n",
        "    print(doc['headline']['main'])\n",
        "\n",
        "```\n",
        "or with list comprehension:\n",
        "```\n",
        "print([doc['headline']['main'] for doc in docs])\n",
        "```"
      ]
    },
    {
      "cell_type": "code",
      "execution_count": 58,
      "metadata": {
        "colab": {
          "base_uri": "https://localhost:8080/"
        },
        "id": "rA0MbEy6xg6X",
        "outputId": "f98a3b4d-2da4-407f-b638-1ecb444230ac"
      },
      "outputs": [
        {
          "output_type": "stream",
          "name": "stdout",
          "text": [
            "HIGGINS, SPENT $22,189.53.; Governor-Elect's Election Expenses -- Harrison $9,220.28.\n",
            "GARDEN BOUTS CANCELED; Mauriello Says He Could Not Be Ready on Nov. 3\n",
            "Stock Drop Is Biggest in 2 Months--Margin Rise Held Factor in Lightest Trading of 1955\n",
            "MUSIC OF THE WEEK\n",
            "Anacomp Inc. reports earnings for Qtr to March 31\n",
            "Brooklyn Routs Yeshiva\n",
            "Albuquerque Program Gives Drinkers a Lift\n",
            "Front Page 7 -- No Title\n",
            "UNIONS AND BUILDERS READY FOR LONG FIGHT; None of the Strikers Back - Lock-Out Soon in Effect. 23,000 ALREADY INVOLVED Orders Sent to Every Building Employer Within Twenty-five Miles -- House-smiths Vote Not to Strike.\n"
          ]
        }
      ],
      "source": [
        "for doc in docs:\n",
        "    print(doc['headline']['main'])"
      ]
    },
    {
      "cell_type": "code",
      "execution_count": 59,
      "metadata": {
        "colab": {
          "base_uri": "https://localhost:8080/",
          "height": 122
        },
        "id": "Xt5f2MUGxg6Y",
        "outputId": "4445bfdf-e327-4451-8521-1588091e2114"
      },
      "outputs": [
        {
          "output_type": "execute_result",
          "data": {
            "text/plain": [
              "'[\"HIGGINS, SPENT $22,189.53.; Governor-Elect\\'s Election Expenses -- Harrison $9,220.28.\", \\'GARDEN BOUTS CANCELED; Mauriello Says He Could Not Be Ready on Nov. 3\\', \\'Stock Drop Is Biggest in 2 Months--Margin Rise Held Factor in Lightest Trading of 1955\\', \\'MUSIC OF THE WEEK\\', \\'Anacomp Inc. reports earnings for Qtr to March 31\\', \\'Brooklyn Routs Yeshiva\\', \\'Albuquerque Program Gives Drinkers a Lift\\', \\'Front Page 7 -- No Title\\', \\'UNIONS AND BUILDERS READY FOR LONG FIGHT; None of the Strikers Back - Lock-Out Soon in Effect. 23,000 ALREADY INVOLVED Orders Sent to Every Building Employer Within Twenty-five Miles -- House-smiths Vote Not to Strike.\\']\\n'"
            ],
            "application/vnd.google.colaboratory.intrinsic+json": {
              "type": "string"
            }
          },
          "metadata": {},
          "execution_count": 59
        }
      ],
      "source": [
        "# -EXPECTED OUTPUT-\n",
        "\"\"\"\n",
        "HIGGINS, SPENT $22,189.53.; Governor-Elect's Election Expenses -- Harrison $9,220.28.\n",
        "GARDEN BOUTS CANCELED; Mauriello Says He Could Not Be Ready on Nov. 3\n",
        "Stock Drop Is Biggest in 2 Months--Margin Rise Held Factor in Lightest Trading of 1955\n",
        "MUSIC OF THE WEEK\n",
        "Anacomp Inc. reports earnings for Qtr to March 31\n",
        "Brooklyn Routs Yeshiva\n",
        "Albuquerque Program Gives Drinkers a Lift\n",
        "Front Page 7 -- No Title\n",
        "UNIONS AND BUILDERS READY FOR LONG FIGHT; None of the Strikers Back - Lock-Out Soon in Effect. 23,000 ALREADY INVOLVED Orders Sent to Every Building Employer Within Twenty-five Miles -- House-smiths Vote Not to Strike.\n",
        "\"\"\"\n",
        "\n",
        "# or with list comprehension\n",
        "\n",
        "\"\"\"[\"HIGGINS, SPENT $22,189.53.; Governor-Elect's Election Expenses -- Harrison $9,220.28.\", 'GARDEN BOUTS CANCELED; Mauriello Says He Could Not Be Ready on Nov. 3', 'Stock Drop Is Biggest in 2 Months--Margin Rise Held Factor in Lightest Trading of 1955', 'MUSIC OF THE WEEK', 'Anacomp Inc. reports earnings for Qtr to March 31', 'Brooklyn Routs Yeshiva', 'Albuquerque Program Gives Drinkers a Lift', 'Front Page 7 -- No Title', 'UNIONS AND BUILDERS READY FOR LONG FIGHT; None of the Strikers Back - Lock-Out Soon in Effect. 23,000 ALREADY INVOLVED Orders Sent to Every Building Employer Within Twenty-five Miles -- House-smiths Vote Not to Strike.']\n",
        "\"\"\""
      ]
    },
    {
      "cell_type": "markdown",
      "metadata": {
        "id": "gNuQyoMsxg6Y"
      },
      "source": [
        "## Flattening Data (i.e. Breaking Out Nested Data)\n",
        "\n",
        "Let's say we want to create a list of dictionaries containing information about the documents contained in this JSON. It should contain the publication date (value associated with `pub_date` key), word count (value associated with `word_count` key), and both the `'main'` and `'kicker'` associated with the `headline` key. This list should be called `doc_info_list` and should look something like this:\n",
        "\n",
        "```python\n",
        "[\n",
        "    {\n",
        "        'headline_main': \"HIGGINS, SPENT $22,189.53.; Governor-Elect's Election Expenses -- Harrison $9,220.28.\",\n",
        "        'headline_kicker': None,\n",
        "        'pub_date': '1904-11-17T00:00:00Z',\n",
        "        'word_count': 213\n",
        "    },\n",
        "    {\n",
        "        'headline_main': 'GARDEN BOUTS CANCELED; Mauriello Says He Could Not Be Ready on Nov. 3',\n",
        "        'headline_kicker': '1',\n",
        "        'pub_date': '1944-10-23T00:00:00Z',\n",
        "        'word_count': 149\n",
        "    },\n",
        "    ...\n",
        "]\n",
        "```\n",
        "\n",
        "The tricky part is, each dictionary needs to be \"flat\", meaning that each key is associated with a single string or number value, not a deeper data structure. So we need to flatten the nested `headline` dictionary.\n",
        "\n",
        "It's also conventional when flattening data to make a compound name for the newly-created keys. So, let's call the new keys `headline_main` and `headline_kicker`.\n",
        "\n",
        "Recall the structure of a `headline` dictionary:\n",
        "\n",
        "> Print out one of the `headline` elements by typing in the following code:\n",
        "\n",
        "```\n",
        "docs[2]['headline']\n",
        "```"
      ]
    },
    {
      "cell_type": "code",
      "execution_count": 60,
      "metadata": {
        "colab": {
          "base_uri": "https://localhost:8080/"
        },
        "id": "UC95RZatxg6Y",
        "outputId": "f7e5fe60-a2c0-4449-e3bb-74bdb293c4e5"
      },
      "outputs": [
        {
          "output_type": "execute_result",
          "data": {
            "text/plain": [
              "{'main': 'Stock Drop Is Biggest in 2 Months--Margin Rise Held Factor in Lightest Trading of 1955',\n",
              " 'kicker': '1',\n",
              " 'content_kicker': None,\n",
              " 'print_headline': None,\n",
              " 'name': None,\n",
              " 'seo': None,\n",
              " 'sub': None}"
            ]
          },
          "metadata": {},
          "execution_count": 60
        }
      ],
      "source": [
        "docs[2]['headline']"
      ]
    },
    {
      "cell_type": "code",
      "execution_count": 61,
      "metadata": {
        "colab": {
          "base_uri": "https://localhost:8080/",
          "height": 53
        },
        "id": "wMGno_g0xg6Y",
        "outputId": "76a8e98f-2a9a-43e1-b482-6d102301effe"
      },
      "outputs": [
        {
          "output_type": "execute_result",
          "data": {
            "text/plain": [
              "\"\\n{'main': 'Stock Drop Is Biggest in 2 Months--Margin Rise Held Factor in Lightest Trading of 1955',\\n 'kicker': '1',\\n 'content_kicker': None,\\n 'print_headline': None,\\n 'name': None,\\n 'seo': None,\\n 'sub': None}\\n\""
            ],
            "application/vnd.google.colaboratory.intrinsic+json": {
              "type": "string"
            }
          },
          "metadata": {},
          "execution_count": 61
        }
      ],
      "source": [
        "# -EXPECTED OUTPUT-\n",
        "\"\"\"\n",
        "{'main': 'Stock Drop Is Biggest in 2 Months--Margin Rise Held Factor in Lightest Trading of 1955',\n",
        " 'kicker': '1',\n",
        " 'content_kicker': None,\n",
        " 'print_headline': None,\n",
        " 'name': None,\n",
        " 'seo': None,\n",
        " 'sub': None}\n",
        "\"\"\""
      ]
    },
    {
      "cell_type": "markdown",
      "metadata": {
        "id": "0hBI2ES-xg6Y"
      },
      "source": [
        "So, first let's write a function that takes in that complete dictionary, and returns a copy with only the `'main'` and `'kicker'` keys and values, now labeled `'headline_main'` and `'headline_kicker'`:\n",
        "\n",
        "> In the cell below, type the following code to extract the desired information:\n",
        "\n",
        "```\n",
        "def extract_headline_info(headline_dict):\n",
        "    result = {}\n",
        "    result['headline_main'] = headline_dict['main']\n",
        "    result['headline_kicker'] = headline_dict['kicker']\n",
        "    return result\n",
        "```"
      ]
    },
    {
      "cell_type": "code",
      "execution_count": 62,
      "metadata": {
        "id": "XCkCAkuUxg6Y"
      },
      "outputs": [],
      "source": [
        "def extract_headline_info(headline_dict):\n",
        "    result = {}\n",
        "    result['headline_main'] = headline_dict['main']\n",
        "    result['headline_kicker'] = headline_dict['kicker']\n",
        "    return result"
      ]
    },
    {
      "cell_type": "markdown",
      "metadata": {
        "id": "lvXtkQCqxg6Z"
      },
      "source": [
        "Then we can test it out:\n",
        "\n",
        "> In the cell below, type the following code to test the function:\n",
        "\n",
        "```\n",
        "extract_headline_info(docs[2]['headline'])\n",
        "```"
      ]
    },
    {
      "cell_type": "code",
      "execution_count": 63,
      "metadata": {
        "colab": {
          "base_uri": "https://localhost:8080/"
        },
        "id": "uwl-Pbknxg6Z",
        "outputId": "7afb57fa-32df-443f-e964-3eca26d77f30"
      },
      "outputs": [
        {
          "output_type": "execute_result",
          "data": {
            "text/plain": [
              "{'headline_main': 'Stock Drop Is Biggest in 2 Months--Margin Rise Held Factor in Lightest Trading of 1955',\n",
              " 'headline_kicker': '1'}"
            ]
          },
          "metadata": {},
          "execution_count": 63
        }
      ],
      "source": [
        "extract_headline_info(docs[2]['headline'])"
      ]
    },
    {
      "cell_type": "code",
      "execution_count": 64,
      "metadata": {
        "colab": {
          "base_uri": "https://localhost:8080/",
          "height": 53
        },
        "id": "xbeddfnPxg6Z",
        "outputId": "2e3342bb-e96e-443f-cb20-2bdeb2558775"
      },
      "outputs": [
        {
          "output_type": "execute_result",
          "data": {
            "text/plain": [
              "\"\\n{'headline_main': 'Stock Drop Is Biggest in 2 Months--Margin Rise Held Factor in Lightest Trading of 1955',\\n 'headline_kicker': '1'}\\n\""
            ],
            "application/vnd.google.colaboratory.intrinsic+json": {
              "type": "string"
            }
          },
          "metadata": {},
          "execution_count": 64
        }
      ],
      "source": [
        "# -EXPECTED OUTPUT-\n",
        "\"\"\"\n",
        "{'headline_main': 'Stock Drop Is Biggest in 2 Months--Margin Rise Held Factor in Lightest Trading of 1955',\n",
        " 'headline_kicker': '1'}\n",
        "\"\"\""
      ]
    },
    {
      "cell_type": "markdown",
      "metadata": {
        "id": "MQppB85Jxg6Z"
      },
      "source": [
        "Now let's write another function that calls that function, then adds the `pub_date` and `word_count` keys and values:\n",
        "\n",
        "> In the cell below type the following code to define a function that calls our other function and adds the `pub_date` and `word_count` keys and values:\n",
        "```\n",
        "def extract_doc_info(doc):\n",
        "    info = extract_headline_info(doc['headline'])\n",
        "    info['pub_date'] = doc['pub_date']\n",
        "    info['word_count'] = doc['word_count']\n",
        "    return info\n",
        "```"
      ]
    },
    {
      "cell_type": "code",
      "execution_count": 65,
      "metadata": {
        "id": "yWK_N3mLxg6Z"
      },
      "outputs": [],
      "source": [
        "def extract_doc_info(doc):\n",
        "    info = extract_headline_info(doc['headline'])\n",
        "    info['pub_date'] = doc['pub_date']\n",
        "    info['word_count']= doc['word_count']\n",
        "    return info"
      ]
    },
    {
      "cell_type": "markdown",
      "metadata": {
        "id": "MquVNVEYxg6Z"
      },
      "source": [
        "Again, testing it out on a couple examples:\n",
        "\n",
        "> In the cells below, type the following code to test the function changing the index as necessary:\n",
        "\n",
        "```\n",
        "extract_doc_info(docs[2])\n",
        "```"
      ]
    },
    {
      "cell_type": "code",
      "execution_count": 66,
      "metadata": {
        "colab": {
          "base_uri": "https://localhost:8080/"
        },
        "id": "9tdvjfTLxg6Z",
        "outputId": "dbad9d64-a67f-46bf-8458-9c83db8444ba"
      },
      "outputs": [
        {
          "output_type": "execute_result",
          "data": {
            "text/plain": [
              "{'headline_main': 'Stock Drop Is Biggest in 2 Months--Margin Rise Held Factor in Lightest Trading of 1955',\n",
              " 'headline_kicker': '1',\n",
              " 'pub_date': '1955-05-15T00:00:00Z',\n",
              " 'word_count': 823}"
            ]
          },
          "metadata": {},
          "execution_count": 66
        }
      ],
      "source": [
        "extract_doc_info(docs[2])"
      ]
    },
    {
      "cell_type": "code",
      "execution_count": 67,
      "metadata": {
        "colab": {
          "base_uri": "https://localhost:8080/",
          "height": 53
        },
        "id": "_1Pe-QWWxg6a",
        "outputId": "361568b4-0081-4cda-9c93-93a0b181323c"
      },
      "outputs": [
        {
          "output_type": "execute_result",
          "data": {
            "text/plain": [
              "\"\\n{'headline_main': 'Stock Drop Is Biggest in 2 Months--Margin Rise Held Factor in Lightest Trading of 1955',\\n 'headline_kicker': '1',\\n 'pub_date': '1955-05-15T00:00:00Z',\\n 'word_count': 823}\\n\""
            ],
            "application/vnd.google.colaboratory.intrinsic+json": {
              "type": "string"
            }
          },
          "metadata": {},
          "execution_count": 67
        }
      ],
      "source": [
        "# -EXPECTED OUTPUT-\n",
        "\"\"\"\n",
        "{'headline_main': 'Stock Drop Is Biggest in 2 Months--Margin Rise Held Factor in Lightest Trading of 1955',\n",
        " 'headline_kicker': '1',\n",
        " 'pub_date': '1955-05-15T00:00:00Z',\n",
        " 'word_count': 823}\n",
        "\"\"\""
      ]
    },
    {
      "cell_type": "code",
      "execution_count": 68,
      "metadata": {
        "colab": {
          "base_uri": "https://localhost:8080/"
        },
        "id": "m_XTub5hxg6r",
        "outputId": "c27ea180-7bbb-4792-d9f2-92ee33341d3b"
      },
      "outputs": [
        {
          "output_type": "execute_result",
          "data": {
            "text/plain": [
              "{'headline_main': \"HIGGINS, SPENT $22,189.53.; Governor-Elect's Election Expenses -- Harrison $9,220.28.\",\n",
              " 'headline_kicker': None,\n",
              " 'pub_date': '1904-11-17T00:00:00Z',\n",
              " 'word_count': 213}"
            ]
          },
          "metadata": {},
          "execution_count": 68
        }
      ],
      "source": [
        "# replace this comment with the code to test out the function on the element at index 2\n",
        "\n",
        "extract_doc_info(docs[0])"
      ]
    },
    {
      "cell_type": "code",
      "execution_count": 69,
      "metadata": {
        "colab": {
          "base_uri": "https://localhost:8080/",
          "height": 53
        },
        "id": "3E6Gnc0Xxg6r",
        "outputId": "61ab92db-74bb-4eb3-937f-1035b034a7db"
      },
      "outputs": [
        {
          "output_type": "execute_result",
          "data": {
            "text/plain": [
              "'\\n{\\'headline_main\\': \"HIGGINS, SPENT $22,189.53.; Governor-Elect\\'s Election Expenses -- Harrison $9,220.28.\",\\n \\'headline_kicker\\': None,\\n \\'pub_date\\': \\'1904-11-17T00:00:00Z\\',\\n \\'word_count\\': 213}\\n'"
            ],
            "application/vnd.google.colaboratory.intrinsic+json": {
              "type": "string"
            }
          },
          "metadata": {},
          "execution_count": 69
        }
      ],
      "source": [
        "# -EXPECTED OUTPUT-\n",
        "\"\"\"\n",
        "{'headline_main': \"HIGGINS, SPENT $22,189.53.; Governor-Elect's Election Expenses -- Harrison $9,220.28.\",\n",
        " 'headline_kicker': None,\n",
        " 'pub_date': '1904-11-17T00:00:00Z',\n",
        " 'word_count': 213}\n",
        "\"\"\""
      ]
    },
    {
      "cell_type": "markdown",
      "metadata": {
        "id": "HZM7ngSOxg6r"
      },
      "source": [
        "Now we can loop over the full list and create `doc_info_list`:\n",
        "\n",
        "> In the cell below, type following code to create a loop that creates the desired list using the function just created, then print out the results:\n",
        "\n",
        "either with a for loop:\n",
        "```\n",
        "doc_info_list = []\n",
        "for doc in docs:\n",
        "   doc_info_list.append(extract_doc_info(doc))\n",
        "doc_info_list\n",
        "```\n",
        "or with list comprehension:\n",
        "```\n",
        "doc_info_list = [extract_doc_info(doc) for doc in docs]\n",
        "doc_info_list\n",
        "```"
      ]
    },
    {
      "cell_type": "code",
      "execution_count": 70,
      "metadata": {
        "colab": {
          "base_uri": "https://localhost:8080/"
        },
        "id": "22A_Zj0sxg6s",
        "outputId": "7eb4db5c-abbf-4cf1-8f21-50f2f03d05cb"
      },
      "outputs": [
        {
          "output_type": "execute_result",
          "data": {
            "text/plain": [
              "[{'headline_main': \"HIGGINS, SPENT $22,189.53.; Governor-Elect's Election Expenses -- Harrison $9,220.28.\",\n",
              "  'headline_kicker': None,\n",
              "  'pub_date': '1904-11-17T00:00:00Z',\n",
              "  'word_count': 213},\n",
              " {'headline_main': 'GARDEN BOUTS CANCELED; Mauriello Says He Could Not Be Ready on Nov. 3',\n",
              "  'headline_kicker': '1',\n",
              "  'pub_date': '1944-10-23T00:00:00Z',\n",
              "  'word_count': 149},\n",
              " {'headline_main': 'Stock Drop Is Biggest in 2 Months--Margin Rise Held Factor in Lightest Trading of 1955',\n",
              "  'headline_kicker': '1',\n",
              "  'pub_date': '1955-05-15T00:00:00Z',\n",
              "  'word_count': 823},\n",
              " {'headline_main': 'MUSIC OF THE WEEK',\n",
              "  'headline_kicker': None,\n",
              "  'pub_date': '1904-11-06T00:00:00Z',\n",
              "  'word_count': 2609},\n",
              " {'headline_main': 'Anacomp Inc. reports earnings for Qtr to March 31',\n",
              "  'headline_kicker': None,\n",
              "  'pub_date': '1992-05-06T00:00:00Z',\n",
              "  'word_count': 129},\n",
              " {'headline_main': 'Brooklyn Routs Yeshiva',\n",
              "  'headline_kicker': '1',\n",
              "  'pub_date': '1972-12-24T00:00:00Z',\n",
              "  'word_count': 144},\n",
              " {'headline_main': 'Albuquerque Program Gives Drinkers a Lift',\n",
              "  'headline_kicker': '1',\n",
              "  'pub_date': '1972-12-25T00:00:00Z',\n",
              "  'word_count': 151},\n",
              " {'headline_main': 'Front Page 7 -- No Title',\n",
              "  'headline_kicker': '1',\n",
              "  'pub_date': '1944-10-24T00:00:00Z',\n",
              "  'word_count': 29},\n",
              " {'headline_main': 'UNIONS AND BUILDERS READY FOR LONG FIGHT; None of the Strikers Back - Lock-Out Soon in Effect. 23,000 ALREADY INVOLVED Orders Sent to Every Building Employer Within Twenty-five Miles -- House-smiths Vote Not to Strike.',\n",
              "  'headline_kicker': None,\n",
              "  'pub_date': '1904-08-06T00:00:00Z',\n",
              "  'word_count': 883}]"
            ]
          },
          "metadata": {},
          "execution_count": 70
        }
      ],
      "source": [
        "doc_info_list = []\n",
        "for doc in docs:\n",
        "    doc_info_list.append(extract_doc_info(doc))\n",
        "doc_info_list"
      ]
    },
    {
      "cell_type": "code",
      "execution_count": 71,
      "metadata": {
        "colab": {
          "base_uri": "https://localhost:8080/",
          "height": 176
        },
        "id": "nrsGlTZ9xg6s",
        "outputId": "f67dcc41-5bfb-4dd7-83c7-83c5ded5ca77"
      },
      "outputs": [
        {
          "output_type": "execute_result",
          "data": {
            "text/plain": [
              "'\\nOutput exceeds the size limit. Open the full output data in a text editor\\n\\n[{\\'headline_main\\': \"HIGGINS, SPENT $22,189.53.; Governor-Elect\\'s Election Expenses -- Harrison $9,220.28.\",\\n  \\'headline_kicker\\': None,\\n  \\'pub_date\\': \\'1904-11-17T00:00:00Z\\',\\n  \\'word_count\\': 213},\\n {\\'headline_main\\': \\'GARDEN BOUTS CANCELED; Mauriello Says He Could Not Be Ready on Nov. 3\\',\\n  \\'headline_kicker\\': \\'1\\',\\n  \\'pub_date\\': \\'1944-10-23T00:00:00Z\\',\\n  \\'word_count\\': 149},\\n {\\'headline_main\\': \\'Stock Drop Is Biggest in 2 Months--Margin Rise Held Factor in Lightest Trading of 1955\\',\\n  \\'headline_kicker\\': \\'1\\',\\n  \\'pub_date\\': \\'1955-05-15T00:00:00Z\\',\\n  \\'word_count\\': 823},\\n {\\'headline_main\\': \\'MUSIC OF THE WEEK\\',\\n  \\'headline_kicker\\': None,\\n  \\'pub_date\\': \\'1904-11-06T00:00:00Z\\',\\n  \\'word_count\\': 2609},\\n {\\'headline_main\\': \\'Anacomp Inc. reports earnings for Qtr to March 31\\',\\n  \\'headline_kicker\\': None,\\n  \\'pub_date\\': \\'1992-05-06T00:00:00Z\\',\\n  \\'word_count\\': 129},\\n {\\'headline_main\\': \\'Brooklyn Routs Yeshiva\\',\\n  \\'headline_kicker\\': \\'1\\',\\n  \\'pub_date\\': \\'1972-12-24T00:00:00Z\\',\\n  \\'word_count\\': 144},\\n {\\'headline_main\\': \\'Albuquerque Program Gives Drinkers a Lift\\',\\n  \\'pub_date\\': \\'1944-10-24T00:00:00Z\\',\\n  \\'word_count\\': 29},\\n {\\'headline_main\\': \\'UNIONS AND BUILDERS READY FOR LONG FIGHT; None of the Strikers Back - Lock-Out Soon in Effect. 23,000 ALREADY INVOLVED Orders Sent to Every Building Employer Within Twenty-five Miles -- House-smiths Vote Not to Strike.\\',\\n  \\'headline_kicker\\': None,\\n  \\'pub_date\\': \\'1904-08-06T00:00:00Z\\',\\n  \\'word_count\\': 883}]\\n'"
            ],
            "application/vnd.google.colaboratory.intrinsic+json": {
              "type": "string"
            }
          },
          "metadata": {},
          "execution_count": 71
        }
      ],
      "source": [
        "# -EXPECTED OUTPUT-\n",
        "\"\"\"\n",
        "Output exceeds the size limit. Open the full output data in a text editor\n",
        "\n",
        "[{'headline_main': \"HIGGINS, SPENT $22,189.53.; Governor-Elect's Election Expenses -- Harrison $9,220.28.\",\n",
        "  'headline_kicker': None,\n",
        "  'pub_date': '1904-11-17T00:00:00Z',\n",
        "  'word_count': 213},\n",
        " {'headline_main': 'GARDEN BOUTS CANCELED; Mauriello Says He Could Not Be Ready on Nov. 3',\n",
        "  'headline_kicker': '1',\n",
        "  'pub_date': '1944-10-23T00:00:00Z',\n",
        "  'word_count': 149},\n",
        " {'headline_main': 'Stock Drop Is Biggest in 2 Months--Margin Rise Held Factor in Lightest Trading of 1955',\n",
        "  'headline_kicker': '1',\n",
        "  'pub_date': '1955-05-15T00:00:00Z',\n",
        "  'word_count': 823},\n",
        " {'headline_main': 'MUSIC OF THE WEEK',\n",
        "  'headline_kicker': None,\n",
        "  'pub_date': '1904-11-06T00:00:00Z',\n",
        "  'word_count': 2609},\n",
        " {'headline_main': 'Anacomp Inc. reports earnings for Qtr to March 31',\n",
        "  'headline_kicker': None,\n",
        "  'pub_date': '1992-05-06T00:00:00Z',\n",
        "  'word_count': 129},\n",
        " {'headline_main': 'Brooklyn Routs Yeshiva',\n",
        "  'headline_kicker': '1',\n",
        "  'pub_date': '1972-12-24T00:00:00Z',\n",
        "  'word_count': 144},\n",
        " {'headline_main': 'Albuquerque Program Gives Drinkers a Lift',\n",
        "  'pub_date': '1944-10-24T00:00:00Z',\n",
        "  'word_count': 29},\n",
        " {'headline_main': 'UNIONS AND BUILDERS READY FOR LONG FIGHT; None of the Strikers Back - Lock-Out Soon in Effect. 23,000 ALREADY INVOLVED Orders Sent to Every Building Employer Within Twenty-five Miles -- House-smiths Vote Not to Strike.',\n",
        "  'headline_kicker': None,\n",
        "  'pub_date': '1904-08-06T00:00:00Z',\n",
        "  'word_count': 883}]\n",
        "\"\"\""
      ]
    },
    {
      "cell_type": "markdown",
      "metadata": {
        "id": "jepXhPRVxg6s"
      },
      "source": [
        "Thus we have successfully flattened the required data"
      ]
    },
    {
      "cell_type": "markdown",
      "metadata": {
        "id": "5LYqNADvxg6s"
      },
      "source": [
        "## Transforming JSON to Alternative Formats\n",
        "\n",
        "### Viewing the Raw Dataset in Pandas\n",
        "\n",
        "You've also previously started to take a look at how to transform JSON to DataFrames. Investigating the schema, a good option for this could again be the value associated with the `'docs'` key. While this still has nested data itself, it's often easier to load the entire contents as a DataFrame for viewing and then use additional functions to break apart the internally nested data from there.\n",
        "\n",
        "So, first we will display the full information associated with the `'docs'` key:\n",
        "\n",
        "> In the cell below, first import pandas using the standard alias, then type the code to create a DataFrame of the info found in data->response->docs:\n",
        "\n",
        "```\n",
        "pd.DataFrame(data['response']['docs'])\n",
        "```"
      ]
    },
    {
      "cell_type": "code",
      "execution_count": 72,
      "metadata": {
        "colab": {
          "base_uri": "https://localhost:8080/"
        },
        "id": "k-OENRdJxg6s",
        "outputId": "f3494148-1916-45b4-db73-0701fe0b035d"
      },
      "outputs": [
        {
          "output_type": "execute_result",
          "data": {
            "text/plain": [
              "(9, 17)"
            ]
          },
          "metadata": {},
          "execution_count": 72
        }
      ],
      "source": [
        "import pandas as pd\n",
        "df = pd.DataFrame(data['response']['docs'])\n",
        "df.shape"
      ]
    },
    {
      "cell_type": "code",
      "execution_count": 73,
      "metadata": {
        "id": "VI1YpcxHxg6s"
      },
      "outputs": [],
      "source": [
        "# replace this comment with the code to import pandas using the standard alias\n",
        "\n",
        "# replace this comment with the code to create the desired DataFrame"
      ]
    },
    {
      "cell_type": "markdown",
      "metadata": {
        "id": "YdenthMxxg6t"
      },
      "source": [
        "Note that because the value associated with the `'headline'` key is a dictionary, it is displayed in this crowded, messy way within the DataFrame, including `{` and `'` characters."
      ]
    },
    {
      "cell_type": "markdown",
      "metadata": {
        "id": "43XuJ2XOxg6t"
      },
      "source": [
        "### Viewing the Flattened Info List\n",
        "\n",
        "Because `doc_info_list` is already flattened so the value associated with each key is just a number or string, it looks much neater when loaded into pandas:\n",
        "\n",
        "> In the cell below, type the following code to create a DataFrame from `doc_info_list`:\n",
        "\n",
        "```\n",
        "pd.DataFrame(doc_info_list)\n",
        "```"
      ]
    },
    {
      "cell_type": "code",
      "execution_count": 74,
      "metadata": {
        "colab": {
          "base_uri": "https://localhost:8080/",
          "height": 332
        },
        "id": "t2Gn1HQVxg6t",
        "outputId": "27399901-f6f1-42ce-bf58-4e24a0be8ee2"
      },
      "outputs": [
        {
          "output_type": "execute_result",
          "data": {
            "text/plain": [
              "                                       headline_main headline_kicker  \\\n",
              "0  HIGGINS, SPENT $22,189.53.; Governor-Elect's E...            None   \n",
              "1  GARDEN BOUTS CANCELED; Mauriello Says He Could...               1   \n",
              "2  Stock Drop Is Biggest in 2 Months--Margin Rise...               1   \n",
              "3                                  MUSIC OF THE WEEK            None   \n",
              "4  Anacomp Inc. reports earnings for Qtr to March 31            None   \n",
              "5                             Brooklyn Routs Yeshiva               1   \n",
              "6          Albuquerque Program Gives Drinkers a Lift               1   \n",
              "7                           Front Page 7 -- No Title               1   \n",
              "8  UNIONS AND BUILDERS READY FOR LONG FIGHT; None...            None   \n",
              "\n",
              "               pub_date  word_count  \n",
              "0  1904-11-17T00:00:00Z         213  \n",
              "1  1944-10-23T00:00:00Z         149  \n",
              "2  1955-05-15T00:00:00Z         823  \n",
              "3  1904-11-06T00:00:00Z        2609  \n",
              "4  1992-05-06T00:00:00Z         129  \n",
              "5  1972-12-24T00:00:00Z         144  \n",
              "6  1972-12-25T00:00:00Z         151  \n",
              "7  1944-10-24T00:00:00Z          29  \n",
              "8  1904-08-06T00:00:00Z         883  "
            ],
            "text/html": [
              "\n",
              "  <div id=\"df-af2bb806-6b2b-4cba-af28-293d4449d203\" class=\"colab-df-container\">\n",
              "    <div>\n",
              "<style scoped>\n",
              "    .dataframe tbody tr th:only-of-type {\n",
              "        vertical-align: middle;\n",
              "    }\n",
              "\n",
              "    .dataframe tbody tr th {\n",
              "        vertical-align: top;\n",
              "    }\n",
              "\n",
              "    .dataframe thead th {\n",
              "        text-align: right;\n",
              "    }\n",
              "</style>\n",
              "<table border=\"1\" class=\"dataframe\">\n",
              "  <thead>\n",
              "    <tr style=\"text-align: right;\">\n",
              "      <th></th>\n",
              "      <th>headline_main</th>\n",
              "      <th>headline_kicker</th>\n",
              "      <th>pub_date</th>\n",
              "      <th>word_count</th>\n",
              "    </tr>\n",
              "  </thead>\n",
              "  <tbody>\n",
              "    <tr>\n",
              "      <th>0</th>\n",
              "      <td>HIGGINS, SPENT $22,189.53.; Governor-Elect's E...</td>\n",
              "      <td>None</td>\n",
              "      <td>1904-11-17T00:00:00Z</td>\n",
              "      <td>213</td>\n",
              "    </tr>\n",
              "    <tr>\n",
              "      <th>1</th>\n",
              "      <td>GARDEN BOUTS CANCELED; Mauriello Says He Could...</td>\n",
              "      <td>1</td>\n",
              "      <td>1944-10-23T00:00:00Z</td>\n",
              "      <td>149</td>\n",
              "    </tr>\n",
              "    <tr>\n",
              "      <th>2</th>\n",
              "      <td>Stock Drop Is Biggest in 2 Months--Margin Rise...</td>\n",
              "      <td>1</td>\n",
              "      <td>1955-05-15T00:00:00Z</td>\n",
              "      <td>823</td>\n",
              "    </tr>\n",
              "    <tr>\n",
              "      <th>3</th>\n",
              "      <td>MUSIC OF THE WEEK</td>\n",
              "      <td>None</td>\n",
              "      <td>1904-11-06T00:00:00Z</td>\n",
              "      <td>2609</td>\n",
              "    </tr>\n",
              "    <tr>\n",
              "      <th>4</th>\n",
              "      <td>Anacomp Inc. reports earnings for Qtr to March 31</td>\n",
              "      <td>None</td>\n",
              "      <td>1992-05-06T00:00:00Z</td>\n",
              "      <td>129</td>\n",
              "    </tr>\n",
              "    <tr>\n",
              "      <th>5</th>\n",
              "      <td>Brooklyn Routs Yeshiva</td>\n",
              "      <td>1</td>\n",
              "      <td>1972-12-24T00:00:00Z</td>\n",
              "      <td>144</td>\n",
              "    </tr>\n",
              "    <tr>\n",
              "      <th>6</th>\n",
              "      <td>Albuquerque Program Gives Drinkers a Lift</td>\n",
              "      <td>1</td>\n",
              "      <td>1972-12-25T00:00:00Z</td>\n",
              "      <td>151</td>\n",
              "    </tr>\n",
              "    <tr>\n",
              "      <th>7</th>\n",
              "      <td>Front Page 7 -- No Title</td>\n",
              "      <td>1</td>\n",
              "      <td>1944-10-24T00:00:00Z</td>\n",
              "      <td>29</td>\n",
              "    </tr>\n",
              "    <tr>\n",
              "      <th>8</th>\n",
              "      <td>UNIONS AND BUILDERS READY FOR LONG FIGHT; None...</td>\n",
              "      <td>None</td>\n",
              "      <td>1904-08-06T00:00:00Z</td>\n",
              "      <td>883</td>\n",
              "    </tr>\n",
              "  </tbody>\n",
              "</table>\n",
              "</div>\n",
              "    <div class=\"colab-df-buttons\">\n",
              "\n",
              "  <div class=\"colab-df-container\">\n",
              "    <button class=\"colab-df-convert\" onclick=\"convertToInteractive('df-af2bb806-6b2b-4cba-af28-293d4449d203')\"\n",
              "            title=\"Convert this dataframe to an interactive table.\"\n",
              "            style=\"display:none;\">\n",
              "\n",
              "  <svg xmlns=\"http://www.w3.org/2000/svg\" height=\"24px\" viewBox=\"0 -960 960 960\">\n",
              "    <path d=\"M120-120v-720h720v720H120Zm60-500h600v-160H180v160Zm220 220h160v-160H400v160Zm0 220h160v-160H400v160ZM180-400h160v-160H180v160Zm440 0h160v-160H620v160ZM180-180h160v-160H180v160Zm440 0h160v-160H620v160Z\"/>\n",
              "  </svg>\n",
              "    </button>\n",
              "\n",
              "  <style>\n",
              "    .colab-df-container {\n",
              "      display:flex;\n",
              "      gap: 12px;\n",
              "    }\n",
              "\n",
              "    .colab-df-convert {\n",
              "      background-color: #E8F0FE;\n",
              "      border: none;\n",
              "      border-radius: 50%;\n",
              "      cursor: pointer;\n",
              "      display: none;\n",
              "      fill: #1967D2;\n",
              "      height: 32px;\n",
              "      padding: 0 0 0 0;\n",
              "      width: 32px;\n",
              "    }\n",
              "\n",
              "    .colab-df-convert:hover {\n",
              "      background-color: #E2EBFA;\n",
              "      box-shadow: 0px 1px 2px rgba(60, 64, 67, 0.3), 0px 1px 3px 1px rgba(60, 64, 67, 0.15);\n",
              "      fill: #174EA6;\n",
              "    }\n",
              "\n",
              "    .colab-df-buttons div {\n",
              "      margin-bottom: 4px;\n",
              "    }\n",
              "\n",
              "    [theme=dark] .colab-df-convert {\n",
              "      background-color: #3B4455;\n",
              "      fill: #D2E3FC;\n",
              "    }\n",
              "\n",
              "    [theme=dark] .colab-df-convert:hover {\n",
              "      background-color: #434B5C;\n",
              "      box-shadow: 0px 1px 3px 1px rgba(0, 0, 0, 0.15);\n",
              "      filter: drop-shadow(0px 1px 2px rgba(0, 0, 0, 0.3));\n",
              "      fill: #FFFFFF;\n",
              "    }\n",
              "  </style>\n",
              "\n",
              "    <script>\n",
              "      const buttonEl =\n",
              "        document.querySelector('#df-af2bb806-6b2b-4cba-af28-293d4449d203 button.colab-df-convert');\n",
              "      buttonEl.style.display =\n",
              "        google.colab.kernel.accessAllowed ? 'block' : 'none';\n",
              "\n",
              "      async function convertToInteractive(key) {\n",
              "        const element = document.querySelector('#df-af2bb806-6b2b-4cba-af28-293d4449d203');\n",
              "        const dataTable =\n",
              "          await google.colab.kernel.invokeFunction('convertToInteractive',\n",
              "                                                    [key], {});\n",
              "        if (!dataTable) return;\n",
              "\n",
              "        const docLinkHtml = 'Like what you see? Visit the ' +\n",
              "          '<a target=\"_blank\" href=https://colab.research.google.com/notebooks/data_table.ipynb>data table notebook</a>'\n",
              "          + ' to learn more about interactive tables.';\n",
              "        element.innerHTML = '';\n",
              "        dataTable['output_type'] = 'display_data';\n",
              "        await google.colab.output.renderOutput(dataTable, element);\n",
              "        const docLink = document.createElement('div');\n",
              "        docLink.innerHTML = docLinkHtml;\n",
              "        element.appendChild(docLink);\n",
              "      }\n",
              "    </script>\n",
              "  </div>\n",
              "\n",
              "\n",
              "<div id=\"df-ab21dc10-4ec8-42e6-a07e-c19e001bf367\">\n",
              "  <button class=\"colab-df-quickchart\" onclick=\"quickchart('df-ab21dc10-4ec8-42e6-a07e-c19e001bf367')\"\n",
              "            title=\"Suggest charts\"\n",
              "            style=\"display:none;\">\n",
              "\n",
              "<svg xmlns=\"http://www.w3.org/2000/svg\" height=\"24px\"viewBox=\"0 0 24 24\"\n",
              "     width=\"24px\">\n",
              "    <g>\n",
              "        <path d=\"M19 3H5c-1.1 0-2 .9-2 2v14c0 1.1.9 2 2 2h14c1.1 0 2-.9 2-2V5c0-1.1-.9-2-2-2zM9 17H7v-7h2v7zm4 0h-2V7h2v10zm4 0h-2v-4h2v4z\"/>\n",
              "    </g>\n",
              "</svg>\n",
              "  </button>\n",
              "\n",
              "<style>\n",
              "  .colab-df-quickchart {\n",
              "      --bg-color: #E8F0FE;\n",
              "      --fill-color: #1967D2;\n",
              "      --hover-bg-color: #E2EBFA;\n",
              "      --hover-fill-color: #174EA6;\n",
              "      --disabled-fill-color: #AAA;\n",
              "      --disabled-bg-color: #DDD;\n",
              "  }\n",
              "\n",
              "  [theme=dark] .colab-df-quickchart {\n",
              "      --bg-color: #3B4455;\n",
              "      --fill-color: #D2E3FC;\n",
              "      --hover-bg-color: #434B5C;\n",
              "      --hover-fill-color: #FFFFFF;\n",
              "      --disabled-bg-color: #3B4455;\n",
              "      --disabled-fill-color: #666;\n",
              "  }\n",
              "\n",
              "  .colab-df-quickchart {\n",
              "    background-color: var(--bg-color);\n",
              "    border: none;\n",
              "    border-radius: 50%;\n",
              "    cursor: pointer;\n",
              "    display: none;\n",
              "    fill: var(--fill-color);\n",
              "    height: 32px;\n",
              "    padding: 0;\n",
              "    width: 32px;\n",
              "  }\n",
              "\n",
              "  .colab-df-quickchart:hover {\n",
              "    background-color: var(--hover-bg-color);\n",
              "    box-shadow: 0 1px 2px rgba(60, 64, 67, 0.3), 0 1px 3px 1px rgba(60, 64, 67, 0.15);\n",
              "    fill: var(--button-hover-fill-color);\n",
              "  }\n",
              "\n",
              "  .colab-df-quickchart-complete:disabled,\n",
              "  .colab-df-quickchart-complete:disabled:hover {\n",
              "    background-color: var(--disabled-bg-color);\n",
              "    fill: var(--disabled-fill-color);\n",
              "    box-shadow: none;\n",
              "  }\n",
              "\n",
              "  .colab-df-spinner {\n",
              "    border: 2px solid var(--fill-color);\n",
              "    border-color: transparent;\n",
              "    border-bottom-color: var(--fill-color);\n",
              "    animation:\n",
              "      spin 1s steps(1) infinite;\n",
              "  }\n",
              "\n",
              "  @keyframes spin {\n",
              "    0% {\n",
              "      border-color: transparent;\n",
              "      border-bottom-color: var(--fill-color);\n",
              "      border-left-color: var(--fill-color);\n",
              "    }\n",
              "    20% {\n",
              "      border-color: transparent;\n",
              "      border-left-color: var(--fill-color);\n",
              "      border-top-color: var(--fill-color);\n",
              "    }\n",
              "    30% {\n",
              "      border-color: transparent;\n",
              "      border-left-color: var(--fill-color);\n",
              "      border-top-color: var(--fill-color);\n",
              "      border-right-color: var(--fill-color);\n",
              "    }\n",
              "    40% {\n",
              "      border-color: transparent;\n",
              "      border-right-color: var(--fill-color);\n",
              "      border-top-color: var(--fill-color);\n",
              "    }\n",
              "    60% {\n",
              "      border-color: transparent;\n",
              "      border-right-color: var(--fill-color);\n",
              "    }\n",
              "    80% {\n",
              "      border-color: transparent;\n",
              "      border-right-color: var(--fill-color);\n",
              "      border-bottom-color: var(--fill-color);\n",
              "    }\n",
              "    90% {\n",
              "      border-color: transparent;\n",
              "      border-bottom-color: var(--fill-color);\n",
              "    }\n",
              "  }\n",
              "</style>\n",
              "\n",
              "  <script>\n",
              "    async function quickchart(key) {\n",
              "      const quickchartButtonEl =\n",
              "        document.querySelector('#' + key + ' button');\n",
              "      quickchartButtonEl.disabled = true;  // To prevent multiple clicks.\n",
              "      quickchartButtonEl.classList.add('colab-df-spinner');\n",
              "      try {\n",
              "        const charts = await google.colab.kernel.invokeFunction(\n",
              "            'suggestCharts', [key], {});\n",
              "      } catch (error) {\n",
              "        console.error('Error during call to suggestCharts:', error);\n",
              "      }\n",
              "      quickchartButtonEl.classList.remove('colab-df-spinner');\n",
              "      quickchartButtonEl.classList.add('colab-df-quickchart-complete');\n",
              "    }\n",
              "    (() => {\n",
              "      let quickchartButtonEl =\n",
              "        document.querySelector('#df-ab21dc10-4ec8-42e6-a07e-c19e001bf367 button');\n",
              "      quickchartButtonEl.style.display =\n",
              "        google.colab.kernel.accessAllowed ? 'block' : 'none';\n",
              "    })();\n",
              "  </script>\n",
              "</div>\n",
              "\n",
              "    </div>\n",
              "  </div>\n"
            ],
            "application/vnd.google.colaboratory.intrinsic+json": {
              "type": "dataframe",
              "summary": "{\n  \"name\": \"pd\",\n  \"rows\": 9,\n  \"fields\": [\n    {\n      \"column\": \"headline_main\",\n      \"properties\": {\n        \"dtype\": \"string\",\n        \"num_unique_values\": 9,\n        \"samples\": [\n          \"Front Page 7 -- No Title\",\n          \"GARDEN BOUTS CANCELED; Mauriello Says He Could Not Be Ready on Nov. 3\",\n          \"Brooklyn Routs Yeshiva\"\n        ],\n        \"semantic_type\": \"\",\n        \"description\": \"\"\n      }\n    },\n    {\n      \"column\": \"headline_kicker\",\n      \"properties\": {\n        \"dtype\": \"category\",\n        \"num_unique_values\": 1,\n        \"samples\": [\n          \"1\"\n        ],\n        \"semantic_type\": \"\",\n        \"description\": \"\"\n      }\n    },\n    {\n      \"column\": \"pub_date\",\n      \"properties\": {\n        \"dtype\": \"object\",\n        \"num_unique_values\": 9,\n        \"samples\": [\n          \"1944-10-24T00:00:00Z\"\n        ],\n        \"semantic_type\": \"\",\n        \"description\": \"\"\n      }\n    },\n    {\n      \"column\": \"word_count\",\n      \"properties\": {\n        \"dtype\": \"number\",\n        \"std\": 826,\n        \"min\": 29,\n        \"max\": 2609,\n        \"num_unique_values\": 9,\n        \"samples\": [\n          29\n        ],\n        \"semantic_type\": \"\",\n        \"description\": \"\"\n      }\n    }\n  ]\n}"
            }
          },
          "metadata": {},
          "execution_count": 74
        }
      ],
      "source": [
        "# replace this comment with the code to create the desired DataFrame\n",
        "pd.DataFrame(doc_info_list)"
      ]
    },
    {
      "cell_type": "markdown",
      "metadata": {
        "id": "j0HvUVP7xg6t"
      },
      "source": [
        "We could also re-create this from the raw data using pandas rather than base Python:\n",
        "\n",
        "> In the cell below, type the following code to create the DataFrame using pandas:\n",
        "\n",
        "First, create a DataFrame of the raw docs info:\n",
        "```\n",
        "df = pd.DataFrame(data['response']['docs'])\n",
        "```\n",
        "Next, make new columns for `headline_main` and `headline_kicker`\n",
        "```\n",
        "df['headline_main'] = df['headline'].apply(lambda headline_dict: headline_dict['main'])\n",
        "df['headline_kicker'] = df['headline'].apply(lambda headline_dict: headline_dict['kicker'])\n",
        "```\n",
        "Finally, subset to only the relevent columns and display the DataFrame and then display the DataFrame:\n",
        "```\n",
        "df = df[['headline_main', 'headline_kicker', 'pub_date', 'word_count']]\n",
        "df\n",
        "```"
      ]
    },
    {
      "cell_type": "code",
      "execution_count": 76,
      "metadata": {
        "colab": {
          "base_uri": "https://localhost:8080/",
          "height": 332
        },
        "id": "rtQiZtnexg6t",
        "outputId": "4922c4cb-4f3e-4bd7-a3c1-2a79adda4662"
      },
      "outputs": [
        {
          "output_type": "execute_result",
          "data": {
            "text/plain": [
              "                                       headline_main headline_kicker  \\\n",
              "0  HIGGINS, SPENT $22,189.53.; Governor-Elect's E...            None   \n",
              "1  GARDEN BOUTS CANCELED; Mauriello Says He Could...               1   \n",
              "2  Stock Drop Is Biggest in 2 Months--Margin Rise...               1   \n",
              "3                                  MUSIC OF THE WEEK            None   \n",
              "4  Anacomp Inc. reports earnings for Qtr to March 31            None   \n",
              "5                             Brooklyn Routs Yeshiva               1   \n",
              "6          Albuquerque Program Gives Drinkers a Lift               1   \n",
              "7                           Front Page 7 -- No Title               1   \n",
              "8  UNIONS AND BUILDERS READY FOR LONG FIGHT; None...            None   \n",
              "\n",
              "               pub_date  word_count  \n",
              "0  1904-11-17T00:00:00Z         213  \n",
              "1  1944-10-23T00:00:00Z         149  \n",
              "2  1955-05-15T00:00:00Z         823  \n",
              "3  1904-11-06T00:00:00Z        2609  \n",
              "4  1992-05-06T00:00:00Z         129  \n",
              "5  1972-12-24T00:00:00Z         144  \n",
              "6  1972-12-25T00:00:00Z         151  \n",
              "7  1944-10-24T00:00:00Z          29  \n",
              "8  1904-08-06T00:00:00Z         883  "
            ],
            "text/html": [
              "\n",
              "  <div id=\"df-84acba31-0eea-4082-ab4b-680a5c5df77f\" class=\"colab-df-container\">\n",
              "    <div>\n",
              "<style scoped>\n",
              "    .dataframe tbody tr th:only-of-type {\n",
              "        vertical-align: middle;\n",
              "    }\n",
              "\n",
              "    .dataframe tbody tr th {\n",
              "        vertical-align: top;\n",
              "    }\n",
              "\n",
              "    .dataframe thead th {\n",
              "        text-align: right;\n",
              "    }\n",
              "</style>\n",
              "<table border=\"1\" class=\"dataframe\">\n",
              "  <thead>\n",
              "    <tr style=\"text-align: right;\">\n",
              "      <th></th>\n",
              "      <th>headline_main</th>\n",
              "      <th>headline_kicker</th>\n",
              "      <th>pub_date</th>\n",
              "      <th>word_count</th>\n",
              "    </tr>\n",
              "  </thead>\n",
              "  <tbody>\n",
              "    <tr>\n",
              "      <th>0</th>\n",
              "      <td>HIGGINS, SPENT $22,189.53.; Governor-Elect's E...</td>\n",
              "      <td>None</td>\n",
              "      <td>1904-11-17T00:00:00Z</td>\n",
              "      <td>213</td>\n",
              "    </tr>\n",
              "    <tr>\n",
              "      <th>1</th>\n",
              "      <td>GARDEN BOUTS CANCELED; Mauriello Says He Could...</td>\n",
              "      <td>1</td>\n",
              "      <td>1944-10-23T00:00:00Z</td>\n",
              "      <td>149</td>\n",
              "    </tr>\n",
              "    <tr>\n",
              "      <th>2</th>\n",
              "      <td>Stock Drop Is Biggest in 2 Months--Margin Rise...</td>\n",
              "      <td>1</td>\n",
              "      <td>1955-05-15T00:00:00Z</td>\n",
              "      <td>823</td>\n",
              "    </tr>\n",
              "    <tr>\n",
              "      <th>3</th>\n",
              "      <td>MUSIC OF THE WEEK</td>\n",
              "      <td>None</td>\n",
              "      <td>1904-11-06T00:00:00Z</td>\n",
              "      <td>2609</td>\n",
              "    </tr>\n",
              "    <tr>\n",
              "      <th>4</th>\n",
              "      <td>Anacomp Inc. reports earnings for Qtr to March 31</td>\n",
              "      <td>None</td>\n",
              "      <td>1992-05-06T00:00:00Z</td>\n",
              "      <td>129</td>\n",
              "    </tr>\n",
              "    <tr>\n",
              "      <th>5</th>\n",
              "      <td>Brooklyn Routs Yeshiva</td>\n",
              "      <td>1</td>\n",
              "      <td>1972-12-24T00:00:00Z</td>\n",
              "      <td>144</td>\n",
              "    </tr>\n",
              "    <tr>\n",
              "      <th>6</th>\n",
              "      <td>Albuquerque Program Gives Drinkers a Lift</td>\n",
              "      <td>1</td>\n",
              "      <td>1972-12-25T00:00:00Z</td>\n",
              "      <td>151</td>\n",
              "    </tr>\n",
              "    <tr>\n",
              "      <th>7</th>\n",
              "      <td>Front Page 7 -- No Title</td>\n",
              "      <td>1</td>\n",
              "      <td>1944-10-24T00:00:00Z</td>\n",
              "      <td>29</td>\n",
              "    </tr>\n",
              "    <tr>\n",
              "      <th>8</th>\n",
              "      <td>UNIONS AND BUILDERS READY FOR LONG FIGHT; None...</td>\n",
              "      <td>None</td>\n",
              "      <td>1904-08-06T00:00:00Z</td>\n",
              "      <td>883</td>\n",
              "    </tr>\n",
              "  </tbody>\n",
              "</table>\n",
              "</div>\n",
              "    <div class=\"colab-df-buttons\">\n",
              "\n",
              "  <div class=\"colab-df-container\">\n",
              "    <button class=\"colab-df-convert\" onclick=\"convertToInteractive('df-84acba31-0eea-4082-ab4b-680a5c5df77f')\"\n",
              "            title=\"Convert this dataframe to an interactive table.\"\n",
              "            style=\"display:none;\">\n",
              "\n",
              "  <svg xmlns=\"http://www.w3.org/2000/svg\" height=\"24px\" viewBox=\"0 -960 960 960\">\n",
              "    <path d=\"M120-120v-720h720v720H120Zm60-500h600v-160H180v160Zm220 220h160v-160H400v160Zm0 220h160v-160H400v160ZM180-400h160v-160H180v160Zm440 0h160v-160H620v160ZM180-180h160v-160H180v160Zm440 0h160v-160H620v160Z\"/>\n",
              "  </svg>\n",
              "    </button>\n",
              "\n",
              "  <style>\n",
              "    .colab-df-container {\n",
              "      display:flex;\n",
              "      gap: 12px;\n",
              "    }\n",
              "\n",
              "    .colab-df-convert {\n",
              "      background-color: #E8F0FE;\n",
              "      border: none;\n",
              "      border-radius: 50%;\n",
              "      cursor: pointer;\n",
              "      display: none;\n",
              "      fill: #1967D2;\n",
              "      height: 32px;\n",
              "      padding: 0 0 0 0;\n",
              "      width: 32px;\n",
              "    }\n",
              "\n",
              "    .colab-df-convert:hover {\n",
              "      background-color: #E2EBFA;\n",
              "      box-shadow: 0px 1px 2px rgba(60, 64, 67, 0.3), 0px 1px 3px 1px rgba(60, 64, 67, 0.15);\n",
              "      fill: #174EA6;\n",
              "    }\n",
              "\n",
              "    .colab-df-buttons div {\n",
              "      margin-bottom: 4px;\n",
              "    }\n",
              "\n",
              "    [theme=dark] .colab-df-convert {\n",
              "      background-color: #3B4455;\n",
              "      fill: #D2E3FC;\n",
              "    }\n",
              "\n",
              "    [theme=dark] .colab-df-convert:hover {\n",
              "      background-color: #434B5C;\n",
              "      box-shadow: 0px 1px 3px 1px rgba(0, 0, 0, 0.15);\n",
              "      filter: drop-shadow(0px 1px 2px rgba(0, 0, 0, 0.3));\n",
              "      fill: #FFFFFF;\n",
              "    }\n",
              "  </style>\n",
              "\n",
              "    <script>\n",
              "      const buttonEl =\n",
              "        document.querySelector('#df-84acba31-0eea-4082-ab4b-680a5c5df77f button.colab-df-convert');\n",
              "      buttonEl.style.display =\n",
              "        google.colab.kernel.accessAllowed ? 'block' : 'none';\n",
              "\n",
              "      async function convertToInteractive(key) {\n",
              "        const element = document.querySelector('#df-84acba31-0eea-4082-ab4b-680a5c5df77f');\n",
              "        const dataTable =\n",
              "          await google.colab.kernel.invokeFunction('convertToInteractive',\n",
              "                                                    [key], {});\n",
              "        if (!dataTable) return;\n",
              "\n",
              "        const docLinkHtml = 'Like what you see? Visit the ' +\n",
              "          '<a target=\"_blank\" href=https://colab.research.google.com/notebooks/data_table.ipynb>data table notebook</a>'\n",
              "          + ' to learn more about interactive tables.';\n",
              "        element.innerHTML = '';\n",
              "        dataTable['output_type'] = 'display_data';\n",
              "        await google.colab.output.renderOutput(dataTable, element);\n",
              "        const docLink = document.createElement('div');\n",
              "        docLink.innerHTML = docLinkHtml;\n",
              "        element.appendChild(docLink);\n",
              "      }\n",
              "    </script>\n",
              "  </div>\n",
              "\n",
              "\n",
              "<div id=\"df-49d4001e-dcec-42f9-b5aa-9578d3005696\">\n",
              "  <button class=\"colab-df-quickchart\" onclick=\"quickchart('df-49d4001e-dcec-42f9-b5aa-9578d3005696')\"\n",
              "            title=\"Suggest charts\"\n",
              "            style=\"display:none;\">\n",
              "\n",
              "<svg xmlns=\"http://www.w3.org/2000/svg\" height=\"24px\"viewBox=\"0 0 24 24\"\n",
              "     width=\"24px\">\n",
              "    <g>\n",
              "        <path d=\"M19 3H5c-1.1 0-2 .9-2 2v14c0 1.1.9 2 2 2h14c1.1 0 2-.9 2-2V5c0-1.1-.9-2-2-2zM9 17H7v-7h2v7zm4 0h-2V7h2v10zm4 0h-2v-4h2v4z\"/>\n",
              "    </g>\n",
              "</svg>\n",
              "  </button>\n",
              "\n",
              "<style>\n",
              "  .colab-df-quickchart {\n",
              "      --bg-color: #E8F0FE;\n",
              "      --fill-color: #1967D2;\n",
              "      --hover-bg-color: #E2EBFA;\n",
              "      --hover-fill-color: #174EA6;\n",
              "      --disabled-fill-color: #AAA;\n",
              "      --disabled-bg-color: #DDD;\n",
              "  }\n",
              "\n",
              "  [theme=dark] .colab-df-quickchart {\n",
              "      --bg-color: #3B4455;\n",
              "      --fill-color: #D2E3FC;\n",
              "      --hover-bg-color: #434B5C;\n",
              "      --hover-fill-color: #FFFFFF;\n",
              "      --disabled-bg-color: #3B4455;\n",
              "      --disabled-fill-color: #666;\n",
              "  }\n",
              "\n",
              "  .colab-df-quickchart {\n",
              "    background-color: var(--bg-color);\n",
              "    border: none;\n",
              "    border-radius: 50%;\n",
              "    cursor: pointer;\n",
              "    display: none;\n",
              "    fill: var(--fill-color);\n",
              "    height: 32px;\n",
              "    padding: 0;\n",
              "    width: 32px;\n",
              "  }\n",
              "\n",
              "  .colab-df-quickchart:hover {\n",
              "    background-color: var(--hover-bg-color);\n",
              "    box-shadow: 0 1px 2px rgba(60, 64, 67, 0.3), 0 1px 3px 1px rgba(60, 64, 67, 0.15);\n",
              "    fill: var(--button-hover-fill-color);\n",
              "  }\n",
              "\n",
              "  .colab-df-quickchart-complete:disabled,\n",
              "  .colab-df-quickchart-complete:disabled:hover {\n",
              "    background-color: var(--disabled-bg-color);\n",
              "    fill: var(--disabled-fill-color);\n",
              "    box-shadow: none;\n",
              "  }\n",
              "\n",
              "  .colab-df-spinner {\n",
              "    border: 2px solid var(--fill-color);\n",
              "    border-color: transparent;\n",
              "    border-bottom-color: var(--fill-color);\n",
              "    animation:\n",
              "      spin 1s steps(1) infinite;\n",
              "  }\n",
              "\n",
              "  @keyframes spin {\n",
              "    0% {\n",
              "      border-color: transparent;\n",
              "      border-bottom-color: var(--fill-color);\n",
              "      border-left-color: var(--fill-color);\n",
              "    }\n",
              "    20% {\n",
              "      border-color: transparent;\n",
              "      border-left-color: var(--fill-color);\n",
              "      border-top-color: var(--fill-color);\n",
              "    }\n",
              "    30% {\n",
              "      border-color: transparent;\n",
              "      border-left-color: var(--fill-color);\n",
              "      border-top-color: var(--fill-color);\n",
              "      border-right-color: var(--fill-color);\n",
              "    }\n",
              "    40% {\n",
              "      border-color: transparent;\n",
              "      border-right-color: var(--fill-color);\n",
              "      border-top-color: var(--fill-color);\n",
              "    }\n",
              "    60% {\n",
              "      border-color: transparent;\n",
              "      border-right-color: var(--fill-color);\n",
              "    }\n",
              "    80% {\n",
              "      border-color: transparent;\n",
              "      border-right-color: var(--fill-color);\n",
              "      border-bottom-color: var(--fill-color);\n",
              "    }\n",
              "    90% {\n",
              "      border-color: transparent;\n",
              "      border-bottom-color: var(--fill-color);\n",
              "    }\n",
              "  }\n",
              "</style>\n",
              "\n",
              "  <script>\n",
              "    async function quickchart(key) {\n",
              "      const quickchartButtonEl =\n",
              "        document.querySelector('#' + key + ' button');\n",
              "      quickchartButtonEl.disabled = true;  // To prevent multiple clicks.\n",
              "      quickchartButtonEl.classList.add('colab-df-spinner');\n",
              "      try {\n",
              "        const charts = await google.colab.kernel.invokeFunction(\n",
              "            'suggestCharts', [key], {});\n",
              "      } catch (error) {\n",
              "        console.error('Error during call to suggestCharts:', error);\n",
              "      }\n",
              "      quickchartButtonEl.classList.remove('colab-df-spinner');\n",
              "      quickchartButtonEl.classList.add('colab-df-quickchart-complete');\n",
              "    }\n",
              "    (() => {\n",
              "      let quickchartButtonEl =\n",
              "        document.querySelector('#df-49d4001e-dcec-42f9-b5aa-9578d3005696 button');\n",
              "      quickchartButtonEl.style.display =\n",
              "        google.colab.kernel.accessAllowed ? 'block' : 'none';\n",
              "    })();\n",
              "  </script>\n",
              "</div>\n",
              "\n",
              "  <div id=\"id_203ecdc2-2472-4521-8716-f7ee1277801e\">\n",
              "    <style>\n",
              "      .colab-df-generate {\n",
              "        background-color: #E8F0FE;\n",
              "        border: none;\n",
              "        border-radius: 50%;\n",
              "        cursor: pointer;\n",
              "        display: none;\n",
              "        fill: #1967D2;\n",
              "        height: 32px;\n",
              "        padding: 0 0 0 0;\n",
              "        width: 32px;\n",
              "      }\n",
              "\n",
              "      .colab-df-generate:hover {\n",
              "        background-color: #E2EBFA;\n",
              "        box-shadow: 0px 1px 2px rgba(60, 64, 67, 0.3), 0px 1px 3px 1px rgba(60, 64, 67, 0.15);\n",
              "        fill: #174EA6;\n",
              "      }\n",
              "\n",
              "      [theme=dark] .colab-df-generate {\n",
              "        background-color: #3B4455;\n",
              "        fill: #D2E3FC;\n",
              "      }\n",
              "\n",
              "      [theme=dark] .colab-df-generate:hover {\n",
              "        background-color: #434B5C;\n",
              "        box-shadow: 0px 1px 3px 1px rgba(0, 0, 0, 0.15);\n",
              "        filter: drop-shadow(0px 1px 2px rgba(0, 0, 0, 0.3));\n",
              "        fill: #FFFFFF;\n",
              "      }\n",
              "    </style>\n",
              "    <button class=\"colab-df-generate\" onclick=\"generateWithVariable('df')\"\n",
              "            title=\"Generate code using this dataframe.\"\n",
              "            style=\"display:none;\">\n",
              "\n",
              "  <svg xmlns=\"http://www.w3.org/2000/svg\" height=\"24px\"viewBox=\"0 0 24 24\"\n",
              "       width=\"24px\">\n",
              "    <path d=\"M7,19H8.4L18.45,9,17,7.55,7,17.6ZM5,21V16.75L18.45,3.32a2,2,0,0,1,2.83,0l1.4,1.43a1.91,1.91,0,0,1,.58,1.4,1.91,1.91,0,0,1-.58,1.4L9.25,21ZM18.45,9,17,7.55Zm-12,3A5.31,5.31,0,0,0,4.9,8.1,5.31,5.31,0,0,0,1,6.5,5.31,5.31,0,0,0,4.9,4.9,5.31,5.31,0,0,0,6.5,1,5.31,5.31,0,0,0,8.1,4.9,5.31,5.31,0,0,0,12,6.5,5.46,5.46,0,0,0,6.5,12Z\"/>\n",
              "  </svg>\n",
              "    </button>\n",
              "    <script>\n",
              "      (() => {\n",
              "      const buttonEl =\n",
              "        document.querySelector('#id_203ecdc2-2472-4521-8716-f7ee1277801e button.colab-df-generate');\n",
              "      buttonEl.style.display =\n",
              "        google.colab.kernel.accessAllowed ? 'block' : 'none';\n",
              "\n",
              "      buttonEl.onclick = () => {\n",
              "        google.colab.notebook.generateWithVariable('df');\n",
              "      }\n",
              "      })();\n",
              "    </script>\n",
              "  </div>\n",
              "\n",
              "    </div>\n",
              "  </div>\n"
            ],
            "application/vnd.google.colaboratory.intrinsic+json": {
              "type": "dataframe",
              "variable_name": "df",
              "summary": "{\n  \"name\": \"df\",\n  \"rows\": 9,\n  \"fields\": [\n    {\n      \"column\": \"headline_main\",\n      \"properties\": {\n        \"dtype\": \"string\",\n        \"num_unique_values\": 9,\n        \"samples\": [\n          \"Front Page 7 -- No Title\",\n          \"GARDEN BOUTS CANCELED; Mauriello Says He Could Not Be Ready on Nov. 3\",\n          \"Brooklyn Routs Yeshiva\"\n        ],\n        \"semantic_type\": \"\",\n        \"description\": \"\"\n      }\n    },\n    {\n      \"column\": \"headline_kicker\",\n      \"properties\": {\n        \"dtype\": \"category\",\n        \"num_unique_values\": 1,\n        \"samples\": [\n          \"1\"\n        ],\n        \"semantic_type\": \"\",\n        \"description\": \"\"\n      }\n    },\n    {\n      \"column\": \"pub_date\",\n      \"properties\": {\n        \"dtype\": \"object\",\n        \"num_unique_values\": 9,\n        \"samples\": [\n          \"1944-10-24T00:00:00Z\"\n        ],\n        \"semantic_type\": \"\",\n        \"description\": \"\"\n      }\n    },\n    {\n      \"column\": \"word_count\",\n      \"properties\": {\n        \"dtype\": \"number\",\n        \"std\": 826,\n        \"min\": 29,\n        \"max\": 2609,\n        \"num_unique_values\": 9,\n        \"samples\": [\n          29\n        ],\n        \"semantic_type\": \"\",\n        \"description\": \"\"\n      }\n    }\n  ]\n}"
            }
          },
          "metadata": {},
          "execution_count": 76
        }
      ],
      "source": [
        "# Create dataframe of raw docs info\n",
        "\n",
        "df = pd.DataFrame(data['response']['docs'])\n",
        "\n",
        "# Make new headline_main and headline_kicker columns\n",
        "\n",
        "df['headline_main'] = df['headline'].apply(lambda headline_dict: headline_dict['main'])\n",
        "df['headline_kicker'] = df['headline'].apply(lambda headline_dict: headline_dict['kicker'])\n",
        "\n",
        "# Subset to only the relevant columns\n",
        "# the DataFrame and then display the DataFrame:\n",
        "\n",
        "df = df[['headline_main', 'headline_kicker', 'pub_date', 'word_count']]\n",
        "df"
      ]
    },
    {
      "cell_type": "code",
      "execution_count": 77,
      "metadata": {
        "id": "5aQ8M3G0xg6t"
      },
      "outputs": [],
      "source": [
        "# replace this comment with the code to create DataFrame of raw docs info\n",
        "\n",
        "# replace this comment with the code to make new headline_main and headline_kicker columns\n",
        "\n",
        "# replace this comment with the code to subset to only the relevant columns\n",
        "\n",
        "# replace this comment with the code to display the DataFrame"
      ]
    },
    {
      "cell_type": "code",
      "execution_count": 78,
      "metadata": {
        "id": "-pvuLa_5xg6u"
      },
      "outputs": [],
      "source": [
        "# -EXPECTED OUTPUT-\n",
        "# a pandas DataFrame with 9 rows and 5 columns"
      ]
    },
    {
      "cell_type": "markdown",
      "metadata": {
        "id": "qe-_sZEMxg6u"
      },
      "source": [
        "This is a good general strategy for transforming nested JSON: create a DataFrame and then break out nested features into their own column features."
      ]
    },
    {
      "cell_type": "markdown",
      "metadata": {
        "id": "XRb3v7bjxg6u"
      },
      "source": [
        "## Outputting to JSON\n",
        "\n",
        "Finally, take a look at how you can write data back to JSON. Like loading, you first open a file (this time in write mode) and use the json package to interact with that file object. Only instead of `json.load` to load the contents of the file into a Python object, you call `json.dump` to write the contents of the Python object into the file.\n",
        "\n",
        "> In the cell below, type the following code to write the data to a JSON file:\n",
        "\n",
        "```\n",
        "with open('doc_info_list.json', 'w') as f:\n",
        "    json.dump(doc_info_list, f)\n",
        "```"
      ]
    },
    {
      "cell_type": "code",
      "execution_count": 80,
      "metadata": {
        "id": "ZQ8_sKCTxg6u"
      },
      "outputs": [],
      "source": [
        "# replace this comment with the code to write the data to a json file\n",
        "\n",
        "with open('doc_info_list.json', 'w') as f:\n",
        "    json.dump(doc_info_list, f)"
      ]
    },
    {
      "cell_type": "markdown",
      "metadata": {
        "id": "ciLM5qIlxg6u"
      },
      "source": [
        "Then if we want to load that cleaned dataset for future use, we can open that new file:\n",
        "\n",
        "> In the cell below, type the following code to load the file we just created:\n",
        "\n",
        "```\n",
        "with open('doc_info_list.json') as f:\n",
        "    doc_info_list_from_disk = json.load(f)\n",
        "```"
      ]
    },
    {
      "cell_type": "code",
      "execution_count": 82,
      "metadata": {
        "id": "JNcG1YLLxg6v"
      },
      "outputs": [],
      "source": [
        "# replace this comment with the code to load the file just created\n",
        "\n",
        "with open('doc_info_list.json') as f:\n",
        "    doc_info_list_from_disk = json.load(f)"
      ]
    },
    {
      "cell_type": "markdown",
      "metadata": {
        "id": "QdOQy6hyxg6v"
      },
      "source": [
        "The new file should contain identical information to the original Python variable:\n",
        "\n",
        "> In the cell below, type the following code to check that the data in `doc_info_list` is the same as the data in `doc_info_list_from_disk`:\n",
        "\n",
        "```\n",
        "doc_info_list_from_disk == doc_info_list\n",
        "```"
      ]
    },
    {
      "cell_type": "code",
      "execution_count": 83,
      "metadata": {
        "colab": {
          "base_uri": "https://localhost:8080/"
        },
        "id": "rmorHLZZxg6v",
        "outputId": "6bcef62e-5338-4d88-eed8-4aa4c46e696b"
      },
      "outputs": [
        {
          "output_type": "execute_result",
          "data": {
            "text/plain": [
              "True"
            ]
          },
          "metadata": {},
          "execution_count": 83
        }
      ],
      "source": [
        "# replace this comment with the code to check that the two files contain the same data\n",
        "\n",
        "doc_info_list_from_disk == doc_info_list"
      ]
    },
    {
      "cell_type": "code",
      "execution_count": null,
      "metadata": {
        "id": "HQHuz2sNxg6v"
      },
      "outputs": [],
      "source": [
        "# -EXPECTED OUTPUT-\n",
        "# True"
      ]
    },
    {
      "cell_type": "markdown",
      "metadata": {
        "id": "fADKdVzOxg6v"
      },
      "source": [
        "## Summary\n",
        "There you have it. In this, you practiced using JSON some more, this time interpreting an example schema diagram in order to retrieve information. You also looked at a general procedure for transforming nested data to pandas DataFrames (create a DataFrame, and then break apart nested data using lambda functions to create additional columns). Finally, you also took a brief look at saving data to JSON files."
      ]
    }
  ],
  "metadata": {
    "kernelspec": {
      "display_name": "Python 3",
      "language": "python",
      "name": "python3"
    },
    "language_info": {
      "codemirror_mode": {
        "name": "ipython",
        "version": 3
      },
      "file_extension": ".py",
      "mimetype": "text/x-python",
      "name": "python",
      "nbconvert_exporter": "python",
      "pygments_lexer": "ipython3",
      "version": "3.8.5"
    },
    "toc": {
      "base_numbering": 1,
      "nav_menu": {},
      "number_sections": true,
      "sideBar": true,
      "skip_h1_title": false,
      "title_cell": "Table of Contents",
      "title_sidebar": "Contents",
      "toc_cell": false,
      "toc_position": {},
      "toc_section_display": true,
      "toc_window_display": false
    },
    "colab": {
      "provenance": []
    }
  },
  "nbformat": 4,
  "nbformat_minor": 0
}